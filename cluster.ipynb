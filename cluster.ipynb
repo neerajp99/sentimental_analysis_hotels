{
 "cells": [
  {
   "cell_type": "code",
   "execution_count": 28,
   "metadata": {},
   "outputs": [
    {
     "data": {
      "image/png": "[encoded data removed]",
      "text/plain": [
       "<Figure size 720x720 with 1 Axes>"
      ]
     },
     "metadata": {
      "needs_background": "light"
     },
     "output_type": "display_data"
    }
   ],
   "source": [
    "import numpy as np\n",
    "import pandas as pd\n",
    "from matplotlib import pyplot as plt\n",
    "from pathlib import Path\n",
    "\n",
    "\n",
    "class k_means_cluster:\n",
    "    # Define the constructor function with tolerance and maximum iterations\n",
    "    def __init__(self, k = 2, tolerance = 0.001, max_iterations = 300):\n",
    "        self.k = k\n",
    "        self.tolerance = tolerance\n",
    "        self.max_iterations = max_iterations\n",
    "        \n",
    "    def fit(self, data):\n",
    "        # Initialise a dictionary for centroids\n",
    "        self.centroids = {}\n",
    "        # Get the pandas dataframe in the form of numpy array and add the values \n",
    "        # to the centroid dictionary.\n",
    "        for i in range(self.k):\n",
    "            self.centroids[i] = data[i]\n",
    "                \n",
    "        # Initialise the optimization process with maximum iterations\n",
    "        for i in range(self.max_iterations):\n",
    "            # Initialise a dictionary to keep the centroids and classifications\n",
    "            # keys will be centroids and values will be the features sets that are contained in those values\n",
    "            self.classifications = {}\n",
    "            for i in range(self.k):\n",
    "                self.classifications[i] = []\n",
    "            # Populate the classifiction empty list \n",
    "            # To find the distance between the points and cluster by choosing the nearest centroid\n",
    "            for features in data:\n",
    "                # Calculate the distances using numpy linear algebra function                                               \n",
    "                # Creating a list that is populated with k number of values \n",
    "                distances = [np.linalg.norm(features - self.centroids[centroid]) for centroid in self.centroids]\n",
    "                classification = distances.index(min(distances)) # Index value of the minimum distances\n",
    "                # At every iteration, clear out the classification and redo the classification\n",
    "                self.classifications[classification].append(features)\n",
    "\n",
    "            previous_centroids = dict(self.centroids)\n",
    "                \n",
    "            # Average all of the classification by taking out the array values and re-calculate the centroids\n",
    "            for classification in self.classifications:\n",
    "                self.centroids[classification] = np.average(self.classifications[classification], axis = 0)\n",
    "                \n",
    "            # Take Optimized variable as true initially \n",
    "            isOptimized = True\n",
    "                \n",
    "            # Looping through the centroids \n",
    "            for centroid in self.centroids:\n",
    "                original_centroid = previous_centroids[centroid]\n",
    "                current_centroid = self.centroids[centroid]\n",
    "                # Compare the original and current centroid with the tolerance\n",
    "                if np.sum((current_centroid - original_centroid) / original_centroid * 100) > self.tolerance:\n",
    "                    isOptimized = False\n",
    "            # Break out of the loop if the result is optimal, when centroids doesn't change their posiitons much\n",
    "            if isOptimized:\n",
    "                break\n",
    "    # Function to predict the classification      \n",
    "    def prediction(self, data):\n",
    "        distances = [np.linalg.norm(data-self.centroids[centroid]) for centroid in self.centroids]\n",
    "        classification = distances.index(min(distances))\n",
    "        return classification \n",
    "        \n",
    "def main():\n",
    "    #Fetching the link to the json data\n",
    "    # Path(__file__).parent.absolute() \n",
    "    current_path = str(Path().absolute())\n",
    "    link_to_data = current_path + \"/final_visual_data/singapore.csv\"\n",
    "    dataFrame = pd.read_csv(\"bangkok_final.csv\")\n",
    "    dataFrame = dataFrame[['V1', 'V2']]\n",
    "    # return pandas data\n",
    "    data = dataFrame.values\n",
    "    # Calling the classifier\n",
    "    k_means = k_means_cluster()\n",
    "    # Train that bad dude\n",
    "    k_means.fit(data)\n",
    "    \n",
    "    # Plotting the graph here \n",
    "    colors = 10 * [\"m\", \"c\", \"r\", \"g\", \"b\", \"k\"]\n",
    "    \n",
    "    # Plot the centroid\n",
    "    for centroid in k_means.centroids:\n",
    "        plt.scatter(k_means.centroids[centroid][0], k_means.centroids[centroid][1], s = 100, color = \"g\", marker = \"x\")\n",
    "        \n",
    "    for classification in k_means.classifications:\n",
    "        color = colors[classification]\n",
    "        for features in k_means.classifications[classification]:\n",
    "            plt.scatter(features[0], features[1], color = color, s = 25)\n",
    "    plt.gcf().set_size_inches((10, 10)) \n",
    "    plt.title('Bangkok', color=\"white\", fontsize= 20)\n",
    "    plt.show()\n",
    "    \n",
    "if __name__ == \"__main__\":\n",
    "\tmain()\n",
    "        "
   ]
  },
  {
   "cell_type": "code",
   "execution_count": null,
   "metadata": {},
   "outputs": [],
   "source": []
  },
  {
   "cell_type": "code",
   "execution_count": null,
   "metadata": {},
   "outputs": [],
   "source": []
  }
 ],
 "metadata": {
  "kernelspec": {
   "display_name": "Python 3",
   "language": "python",
   "name": "python3"
  },
  "language_info": {
   "codemirror_mode": {
    "name": "ipython",
    "version": 3
   },
   "file_extension": ".py",
   "mimetype": "text/x-python",
   "name": "python",
   "nbconvert_exporter": "python",
   "pygments_lexer": "ipython3",
   "version": "3.7.3"
  }
 },
 "nbformat": 4,
 "nbformat_minor": 2
}
