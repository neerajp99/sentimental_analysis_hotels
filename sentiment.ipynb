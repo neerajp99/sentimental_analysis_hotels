{
 "cells": [
  {
   "cell_type": "markdown",
   "metadata": {},
   "source": []
  },
  {
   "cell_type": "code",
   "execution_count": 120,
   "metadata": {},
   "outputs": [
    {
     "name": "stdout",
     "output_type": "stream",
     "text": [
      "Final Rating of the hotel:  0.7448649999999999\n",
      "Final Rating of the hotel:  0.7810347826086954\n",
      "Final Rating of the hotel:  0.5765440000000002\n",
      "Final Rating of the hotel:  0.7360111111111111\n",
      "Final Rating of the hotel:  0.7071040000000002\n",
      "Final Rating of the hotel:  0.6207809999999999\n",
      "Final Rating of the hotel:  0.5855949999999998\n",
      "Final Rating of the hotel:  0.7862382352941176\n",
      "Final Rating of the hotel:  0.812297\n",
      "Final Rating of the hotel:  0.6804473684210527\n",
      "Final Rating of the hotel:  0.775504\n",
      "Final Rating of the hotel:  0.6263919999999998\n",
      "Final Rating of the hotel:  0.6903350000000001\n",
      "Final Rating of the hotel:  0.8466849999999997\n",
      "Final Rating of the hotel:  0.6283600000000001\n",
      "Final Rating of the hotel:  0.6814879999999998\n",
      "Final Rating of the hotel:  0.88656\n",
      "Final Rating of the hotel:  0.6028013333333335\n",
      "Final Rating of the hotel:  0.618434\n",
      "Final Rating of the hotel:  0.58123\n"
     ]
    }
   ],
   "source": [
    "from collections import defaultdict, Counter\n",
    "import json\n",
    "import string\n",
    "from pathlib import Path\n",
    "import os\n",
    "from nltk.tokenize import word_tokenize\n",
    "from nltk.corpus import stopwords\n",
    "import pandas as pd\n",
    "import numpy as np\n",
    "from nltk.sentiment.vader import SentimentIntensityAnalyzer\n",
    "\n",
    "#Fetching the link to the json data\n",
    "# Path(__file__).parent.absolute() \n",
    "current_path = str(Path().absolute())\n",
    "link_to_data = current_path + \"/data/bangkok.json\"\n",
    "\n",
    "#Reading json/csv file with all the data \n",
    "with open(link_to_data) as f:\n",
    "\tdata_content = json.loads(f.read())\n",
    "for j in range(len(data_content)):\n",
    "    sums = 0\n",
    "    m = 0\n",
    "    for k in data_content[j]['reviews']:\n",
    "        m+=1\n",
    "    #     print(data_content[0]['reviews']['R' + str(i)]['content'])\n",
    "    #     print('\\n\\n')\n",
    "        current_review = data_content[j]['reviews'][k]['content']\n",
    "        # Convert any uppercase letter to lowercase\n",
    "        current_review = current_review.lower()\n",
    "        # Remove any special character from the review comments \n",
    "        review_comments = current_review.translate(str.maketrans('', '', string.punctuation))\n",
    "        # Create tokenize words \n",
    "        tokenized_reviews = word_tokenize(review_comments, \"english\")\n",
    "        #Removing the stop words from the comments \n",
    "        final_review_comments = list() \n",
    "        # Loop over the tokenized reviews, and append the non stop words \n",
    "        for word in tokenized_reviews:\n",
    "            if word not in stopwords.words('english'):\n",
    "                final_review_comments.append(word)\n",
    "        # Function to count the sentiments of the given reviews for the hotel        \n",
    "        def analyse_sentiment(sentiment_text):\n",
    "            score = SentimentIntensityAnalyzer().polarity_scores(sentiment_text)\n",
    "            negative = score['neg']\n",
    "            positive = score['pos']\n",
    "            neutral = score['neu']\n",
    "            compound = score['compound']\n",
    "#             print(score)\n",
    "            return compound\n",
    "\n",
    "        total = analyse_sentiment(review_comments)\n",
    "#         print(abs(total))\n",
    "        sums += abs(total)\n",
    "    \n",
    "\n",
    "    print(\"Final Rating of the hotel: \", sums/len(data_content[j]['reviews']))"
   ]
  },
  {
   "cell_type": "code",
   "execution_count": null,
   "metadata": {},
   "outputs": [],
   "source": []
  }
 ],
 "metadata": {
  "kernelspec": {
   "display_name": "Python 3",
   "language": "python",
   "name": "python3"
  },
  "language_info": {
   "codemirror_mode": {
    "name": "ipython",
    "version": 3
   },
   "file_extension": ".py",
   "mimetype": "text/x-python",
   "name": "python",
   "nbconvert_exporter": "python",
   "pygments_lexer": "ipython3",
   "version": "3.7.3"
  }
 },
 "nbformat": 4,
 "nbformat_minor": 2
}
